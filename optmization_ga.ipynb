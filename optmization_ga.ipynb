{
  "nbformat": 4,
  "nbformat_minor": 0,
  "metadata": {
    "colab": {
      "provenance": [],
      "collapsed_sections": [
        "QVCrdnYPlk0f",
        "mattTbqmlUCK",
        "cmETBoKTlZo2",
        "U9GkRhj0l99M",
        "sp1b0SSIkkdi",
        "gMPojjjh69gG",
        "XxxzjQaF7CCo",
        "hdxej4uk7MM8",
        "n9_EuIJO7Wo8",
        "dKQWJG3f7aUm",
        "I-Hx7DRE7ej1",
        "3UjvMsDU7rvH",
        "hK5ZDwkL0gvU",
        "p3DW5sFjrYqF"
      ],
      "include_colab_link": true
    },
    "kernelspec": {
      "name": "python3",
      "display_name": "Python 3"
    },
    "language_info": {
      "name": "python"
    }
  },
  "cells": [
    {
      "cell_type": "markdown",
      "metadata": {
        "id": "view-in-github",
        "colab_type": "text"
      },
      "source": [
        "<a href=\"https://colab.research.google.com/github/sbom00/ga_medical_simulation/blob/main/optmization_ga.ipynb\" target=\"_parent\"><img src=\"https://colab.research.google.com/assets/colab-badge.svg\" alt=\"Open In Colab\"/></a>"
      ]
    },
    {
      "cell_type": "markdown",
      "source": [
        "## 1. LIBRARIES"
      ],
      "metadata": {
        "id": "QVCrdnYPlk0f"
      }
    },
    {
      "cell_type": "code",
      "execution_count": 1,
      "metadata": {
        "colab": {
          "base_uri": "https://localhost:8080/"
        },
        "id": "2gay5IIAewdl",
        "outputId": "8a6f1099-fa60-495d-f2ab-87f1f63abe13"
      },
      "outputs": [
        {
          "output_type": "stream",
          "name": "stdout",
          "text": [
            "Looking in indexes: https://pypi.org/simple, https://us-python.pkg.dev/colab-wheels/public/simple/\n",
            "Collecting simpy\n",
            "  Downloading simpy-4.0.1-py2.py3-none-any.whl (29 kB)\n",
            "Installing collected packages: simpy\n",
            "Successfully installed simpy-4.0.1\n"
          ]
        }
      ],
      "source": [
        "###Libraries\n",
        "!pip install simpy\n",
        "import random\n",
        "import simpy\n",
        "import pandas as pd\n",
        "import numpy as np\n",
        "import random \n",
        "import math\n",
        "import matplotlib.pyplot as plt"
      ]
    },
    {
      "cell_type": "markdown",
      "source": [
        "## 2. DISCRETE EVENT SIMULATION"
      ],
      "metadata": {
        "id": "FJ1qZqAJkiJn"
      }
    },
    {
      "cell_type": "markdown",
      "source": [
        "### 2.1 Activety Functions"
      ],
      "metadata": {
        "id": "mattTbqmlUCK"
      }
    },
    {
      "cell_type": "code",
      "source": [
        "def OnsetOfSymptoms(env, mean_etio_eval):\n",
        "    global log, name\n",
        "    #global I_OnstSymp\n",
        "    log = pd.DataFrame(columns=['id',\n",
        "                                'I_OnstSymp',\n",
        "                                'I_EmerRecepAtend',\n",
        "                                'O_EmerRecepAtend',\n",
        "                                'I_Manchester',\n",
        "                                'O_Manchester',\n",
        "                                'I_Ambu',\n",
        "                                'O_Ambu',\n",
        "                                'I_ISC',\n",
        "                                'O_ISC',\n",
        "                                'I_Neuro',\n",
        "                                'O_Neuro',\n",
        "                                'I_Tomo',\n",
        "                                'O_Tomo',\n",
        "                                'I_An',\n",
        "                                'O_An',\n",
        "                                'I_TratPrescp',\n",
        "                                'O_TratPrescp',\n",
        "                                'I_T',\n",
        "                                'O_T',\n",
        "                                'I_Etiolo',\n",
        "                                'O_Etiolo_discharge'])\n",
        "    I_OnstSymp = 0\n",
        "    I_EmerRecepAtend = 0\n",
        "    O_EmerRecepAtend = 0\n",
        "    I_Manchester = 0\n",
        "    O_Manchester = 0\n",
        "    I_Ambu = 0\n",
        "    O_Ambu = 0\n",
        "    I_ISC = 0\n",
        "    O_ISC = 0\n",
        "    I_Neuro = 0\n",
        "    O_Neuro = 0\n",
        "    I_Tomo = 0\n",
        "    O_Tomo = 0\n",
        "    I_An = 0\n",
        "    O_An = 0\n",
        "    I_TratPrescp = 0\n",
        "    O_TratPrescp = 0\n",
        "    I_T = 0\n",
        "    O_T = 0\n",
        "    I_Etiolo = 0\n",
        "    O_Etiolo_discharg = 0\n",
        "\n",
        "    nome = 0\n",
        "    while True:\n",
        "        yield env.timeout(random.expovariate(1.0/inter_arrival_time))\n",
        "        nome += 1\n",
        "        I_OnstSymp = env.now\n",
        "        if random.uniform(0, 1) > 0.4746:\n",
        "            env.process(EmergencyRecepAttendance(env, nome, Bed, I_OnstSymp, I_EmerRecepAtend, O_EmerRecepAtend, I_Manchester, O_Manchester, I_Ambu, O_Ambu, I_ISC, O_ISC,\n",
        "    I_Neuro, O_Neuro, I_Tomo, O_Tomo, I_An, O_An, I_TratPrescp, O_TratPrescp, I_T, O_T, I_Etiolo, O_Etiolo_discharg, mean_etio_eval))\n",
        "        else:\n",
        "            env.process(AmbulanceTransportation(env, nome, Bed, I_OnstSymp, I_EmerRecepAtend, O_EmerRecepAtend, I_Manchester, O_Manchester, I_Ambu, O_Ambu, I_ISC, O_ISC,\n",
        "    I_Neuro, O_Neuro, I_Tomo, O_Tomo, I_An, O_An, I_TratPrescp, O_TratPrescp, I_T, O_T, I_Etiolo, O_Etiolo_discharg, mean_etio_eval))\n",
        "        \n",
        "def EmergencyRecepAttendance(env, nome, Bed, I_OnstSymp, I_EmerRecepAtend, O_EmerRecepAtend, I_Manchester, O_Manchester, I_Ambu, O_Ambu, I_ISC, O_ISC,\n",
        "    I_Neuro, O_Neuro, I_Tomo, O_Tomo, I_An, O_An, I_TratPrescp, O_TratPrescp, I_T, O_T, I_Etiolo, O_Etiolo_discharg, mean_etio_eval):  \n",
        "    I_EmerRecepAtend=env.now\n",
        "    yield env.timeout(random.triangular(0, 2700, 180))\n",
        "    O_EmerRecepAtend=env.now\n",
        "    I_Manchester=env.now\n",
        "    yield env.timeout(random.triangular(0, 17, 5))\n",
        "    O_Manchester=env.now\n",
        "    env.process(SendIntegralStrokeCareUnity(env, nome, Bed, I_OnstSymp, I_EmerRecepAtend, O_EmerRecepAtend, I_Manchester, O_Manchester, I_Ambu, O_Ambu, I_ISC, O_ISC,\n",
        "    I_Neuro, O_Neuro, I_Tomo, O_Tomo, I_An, O_An, I_TratPrescp, O_TratPrescp, I_T, O_T, I_Etiolo, O_Etiolo_discharg, mean_etio_eval))\n",
        "\n",
        "def AmbulanceTransportation(env, nome, Bed, I_OnstSymp, I_EmerRecepAtend, O_EmerRecepAtend, I_Manchester, O_Manchester, I_Ambu, O_Ambu, I_ISC, O_ISC,\n",
        "    I_Neuro, O_Neuro, I_Tomo, O_Tomo, I_An, O_An, I_TratPrescp, O_TratPrescp, I_T, O_T, I_Etiolo, O_Etiolo_discharg, mean_etio_eval):  \n",
        "    I_Ambu=env.now\n",
        "    yield env.timeout(random.triangular(32, 129, 71.4))\n",
        "    O_Ambu=env.now\n",
        "    env.process(SendIntegralStrokeCareUnity(env, nome, Bed, I_OnstSymp, I_EmerRecepAtend, O_EmerRecepAtend, I_Manchester, O_Manchester, I_Ambu, O_Ambu, I_ISC, O_ISC,\n",
        "    I_Neuro, O_Neuro, I_Tomo, O_Tomo, I_An, O_An, I_TratPrescp, O_TratPrescp, I_T, O_T, I_Etiolo, O_Etiolo_discharg, mean_etio_eval))\n",
        "    \n",
        "def SendIntegralStrokeCareUnity(env, nome, Bed, I_OnstSymp, I_EmerRecepAtend, O_EmerRecepAtend, I_Manchester, O_Manchester, I_Ambu, O_Ambu, I_ISC, O_ISC,\n",
        "    I_Neuro, O_Neuro, I_Tomo, O_Tomo, I_An, O_An, I_TratPrescp, O_TratPrescp, I_T, O_T, I_Etiolo, O_Etiolo_discharg, mean_etio_eval):  \n",
        "    request = Bed.request()\n",
        "    I_ISC = env.now\n",
        "    yield request\n",
        "    yield env.timeout(random.triangular(1, 18, 5))\n",
        "    O_ISC=env.now\n",
        "    env.process(NeurologistEvaluation(env, nome, request, I_OnstSymp, I_EmerRecepAtend, O_EmerRecepAtend, I_Manchester, O_Manchester, I_Ambu, O_Ambu, I_ISC, O_ISC,\n",
        "    I_Neuro, O_Neuro, I_Tomo, O_Tomo, I_An, O_An, I_TratPrescp, O_TratPrescp, I_T, O_T, I_Etiolo, O_Etiolo_discharg, mean_etio_eval))\n",
        "    \n",
        "def NeurologistEvaluation(env, nome, request, I_OnstSymp, I_EmerRecepAtend, O_EmerRecepAtend, I_Manchester, O_Manchester, I_Ambu, O_Ambu, I_ISC, O_ISC,\n",
        "    I_Neuro, O_Neuro, I_Tomo, O_Tomo, I_An, O_An, I_TratPrescp, O_TratPrescp, I_T, O_T, I_Etiolo, O_Etiolo_discharg, mean_etio_eval):  \n",
        "    I_Neuro=env.now\n",
        "    yield env.timeout(random.triangular(1, 22, 13))\n",
        "    O_Neuro=env.now\n",
        "    env.process(Thomography(env, nome, request, I_OnstSymp, I_EmerRecepAtend, O_EmerRecepAtend, I_Manchester, O_Manchester, I_Ambu, O_Ambu, I_ISC, O_ISC,\n",
        "    I_Neuro, O_Neuro, I_Tomo, O_Tomo, I_An, O_An, I_TratPrescp, O_TratPrescp, I_T, O_T, I_Etiolo, O_Etiolo_discharg, mean_etio_eval))\n",
        "    \n",
        "def Thomography(env, nome, request, I_OnstSymp, I_EmerRecepAtend, O_EmerRecepAtend, I_Manchester, O_Manchester, I_Ambu, O_Ambu, I_ISC, O_ISC,\n",
        "    I_Neuro, O_Neuro, I_Tomo, O_Tomo, I_An, O_An, I_TratPrescp, O_TratPrescp, I_T, O_T, I_Etiolo, O_Etiolo_discharg, mean_etio_eval):  \n",
        "    I_Tomo=env.now\n",
        "    yield env.timeout(random.triangular(3, 10 , 4))\n",
        "    O_Tomo=env.now\n",
        "    a = random.uniform(0, 1)\n",
        "    if a < 0.33334:\n",
        "        env.process(Angiography(env, nome, request, I_OnstSymp, I_EmerRecepAtend, O_EmerRecepAtend, I_Manchester, O_Manchester, I_Ambu, O_Ambu, I_ISC, O_ISC,\n",
        "    I_Neuro, O_Neuro, I_Tomo, O_Tomo, I_An, O_An, I_TratPrescp, O_TratPrescp, I_T, O_T, I_Etiolo, O_Etiolo_discharg, mean_etio_eval))\n",
        "    elif a >= 0.3334 and a < 0.66667:\n",
        "        env.process(TreatmentPrescription(env, nome, request, I_OnstSymp, I_EmerRecepAtend, O_EmerRecepAtend, I_Manchester, O_Manchester, I_Ambu, O_Ambu, I_ISC, O_ISC,\n",
        "    I_Neuro, O_Neuro, I_Tomo, O_Tomo, I_An, O_An, I_TratPrescp, O_TratPrescp, I_T, O_T, I_Etiolo, O_Etiolo_discharg, mean_etio_eval))\n",
        "    else:\n",
        "        env.process(Trombolysis(env, nome, request, I_OnstSymp, I_EmerRecepAtend, O_EmerRecepAtend, I_Manchester, O_Manchester, I_Ambu, O_Ambu, I_ISC, O_ISC,\n",
        "    I_Neuro, O_Neuro, I_Tomo, O_Tomo, I_An, O_An, I_TratPrescp, O_TratPrescp, I_T, O_T, I_Etiolo, O_Etiolo_discharg, mean_etio_eval))\n",
        "        \n",
        "def Angiography(env, nome, request, I_OnstSymp, I_EmerRecepAtend, O_EmerRecepAtend, I_Manchester, O_Manchester, I_Ambu, O_Ambu, I_ISC, O_ISC,\n",
        "    I_Neuro, O_Neuro, I_Tomo, O_Tomo, I_An, O_An, I_TratPrescp, O_TratPrescp, I_T, O_T, I_Etiolo, O_Etiolo_discharg, mean_etio_eval):  \n",
        "    I_An=env.now\n",
        "    yield env.timeout(random.triangular(45, 78, 45))\n",
        "    O_An=env.now\n",
        "    a = random.uniform(0, 1)\n",
        "    if a < 0.950001:\n",
        "        env.process(TreatmentPrescription(env, nome, request, I_OnstSymp, I_EmerRecepAtend, O_EmerRecepAtend, I_Manchester, O_Manchester, I_Ambu, O_Ambu, I_ISC, O_ISC,\n",
        "    I_Neuro, O_Neuro, I_Tomo, O_Tomo, I_An, O_An, I_TratPrescp, O_TratPrescp, I_T, O_T, I_Etiolo, O_Etiolo_discharg, mean_etio_eval))\n",
        "    else:\n",
        "        env.process(Trombolysis(env, nome, request, I_OnstSymp, I_EmerRecepAtend, O_EmerRecepAtend, I_Manchester, O_Manchester, I_Ambu, O_Ambu, I_ISC, O_ISC,\n",
        "    I_Neuro, O_Neuro, I_Tomo, O_Tomo, I_An, O_An, I_TratPrescp, O_TratPrescp, I_T, O_T, I_Etiolo, O_Etiolo_discharg, mean_etio_eval))\n",
        "    \n",
        "def TreatmentPrescription(env, nome, request, I_OnstSymp, I_EmerRecepAtend, O_EmerRecepAtend, I_Manchester, O_Manchester, I_Ambu, O_Ambu, I_ISC, O_ISC,\n",
        "    I_Neuro, O_Neuro, I_Tomo, O_Tomo, I_An, O_An, I_TratPrescp, O_TratPrescp, I_T, O_T, I_Etiolo, O_Etiolo_discharg, mean_etio_eval):  \n",
        "    I_TratPrescp=env.now\n",
        "    yield env.timeout(random.triangular(3, 15 , 7))\n",
        "    O_TratPrescp=env.now\n",
        "    env.process(EtiologicalAssessment(env, nome, request, I_OnstSymp, I_EmerRecepAtend, O_EmerRecepAtend, I_Manchester, O_Manchester, I_Ambu, O_Ambu, I_ISC, O_ISC,\n",
        "    I_Neuro, O_Neuro, I_Tomo, O_Tomo, I_An, O_An, I_TratPrescp, O_TratPrescp, I_T, O_T, I_Etiolo, O_Etiolo_discharg, mean_etio_eval))\n",
        "    \n",
        "def Trombolysis(env, nome, request, I_OnstSymp, I_EmerRecepAtend, O_EmerRecepAtend, I_Manchester, O_Manchester, I_Ambu, O_Ambu, I_ISC, O_ISC,\n",
        "    I_Neuro, O_Neuro, I_Tomo, O_Tomo, I_An, O_An, I_TratPrescp, O_TratPrescp, I_T, O_T, I_Etiolo, O_Etiolo_discharg, mean_etio_eval):  \n",
        "    I_T=env.now\n",
        "    yield env.timeout(random.triangular(60, 61.2 , 60))\n",
        "    O_T=env.now\n",
        "    env.process(EtiologicalAssessment(env, nome, request, I_OnstSymp, I_EmerRecepAtend, O_EmerRecepAtend, I_Manchester, O_Manchester, I_Ambu, O_Ambu, I_ISC, O_ISC,\n",
        "    I_Neuro, O_Neuro, I_Tomo, O_Tomo, I_An, O_An, I_TratPrescp, O_TratPrescp, I_T, O_T, I_Etiolo, O_Etiolo_discharg, mean_etio_eval))\n",
        "\n",
        "def EtiologicalAssessment(env, nome, request, I_OnstSymp, I_EmerRecepAtend, O_EmerRecepAtend, I_Manchester, O_Manchester, I_Ambu, O_Ambu, I_ISC, O_ISC,\n",
        "    I_Neuro, O_Neuro, I_Tomo, O_Tomo, I_An, O_An, I_TratPrescp, O_TratPrescp, I_T, O_T, I_Etiolo, O_Etiolo_discharg, mean_etio_eval):  \n",
        "    global log\n",
        "    I_Etiolo=env.now\n",
        "    yield env.timeout(abs(random.gauss(mean_etio_eval, 13559)))\n",
        "    O_Etiolo_discharge=env.now\n",
        "    line = {'id':nome,\n",
        "            'I_OnstSymp':I_OnstSymp,\n",
        "            'I_EmerRecepAtend': I_EmerRecepAtend,\n",
        "            'O_EmerRecepAtend': O_EmerRecepAtend,\n",
        "            'I_Manchester': I_Manchester,\n",
        "            'O_Manchester': [O_Manchester],\n",
        "            'I_Ambu': [I_Ambu],\n",
        "            'O_Ambu': [O_Ambu],\n",
        "            'I_ISC': [I_ISC],\n",
        "            'O_ISC': [O_ISC],\n",
        "            'I_Neuro': [I_Neuro],\n",
        "            'O_Neuro': [O_Neuro],\n",
        "            'I_Tomo': [I_Tomo],\n",
        "            'O_Tomo': [O_Tomo],\n",
        "            'I_An': [I_An],\n",
        "            'O_An': [O_An],\n",
        "            'I_TratPrescp': [I_TratPrescp],\n",
        "            'O_TratPrescp': [O_TratPrescp],\n",
        "            'I_T': [I_T],\n",
        "            'O_T': [O_T],\n",
        "            'I_Etiolo': [I_Etiolo],\n",
        "            'O_Etiolo_discharge': [O_Etiolo_discharge]}\n",
        "    #print(line)\n",
        "    df = pd.DataFrame(line)\n",
        "    log = log.append(df)\n",
        "    yield Bed.release(request)"
      ],
      "metadata": {
        "id": "02yHKqRufBH0"
      },
      "execution_count": 2,
      "outputs": []
    },
    {
      "cell_type": "markdown",
      "source": [
        "### 2.2 Indicators"
      ],
      "metadata": {
        "id": "cmETBoKTlZo2"
      }
    },
    {
      "cell_type": "code",
      "source": [
        "#indicators\n",
        "def indicators(log, df_ind, capacity, mean_etio_eval):\n",
        "    global indicator_line\n",
        "    global dp_intern\n",
        "    global table_I2\n",
        "    global I1_day\n",
        "\n",
        "    #Calculating I4\n",
        "    log[\"I4\"] = np.nan\n",
        "    for index,row in log.iterrows():\n",
        "        if row['I_EmerRecepAtend'] != 0:\n",
        "            if row['I_An'] != 0:\n",
        "                log.iloc[index]['I4'] = row['I_An'] - row['I_EmerRecepAtend']\n",
        "            elif row['I_T'] != 0:\n",
        "                log.iloc[index]['I4'] = row['I_T'] - row['I_EmerRecepAtend']\n",
        "            else:\n",
        "                log.iloc[index]['I4'] = 0  \n",
        "        else:\n",
        "            if row['I_An'] != 0:\n",
        "                log.iloc[index]['I4'] = row['I_An'] - row['I_ISC']\n",
        "            elif row['I_T'] != 0:\n",
        "                log.iloc[index]['I4'] = row['I_T'] - row['I_ISC']\n",
        "            else:\n",
        "                log.iloc[index]['I4'] = 0\n",
        "\n",
        "    I4 = (np.sum(log['I4'] <= 60)) / (np.sum(log['I4']>=0))\n",
        "    \n",
        "\n",
        "    #Calculating I3\n",
        "    log[\"I3\"] = np.nan\n",
        "    for index,row in log.iterrows():\n",
        "        if row['I_Tomo'] != 0:\n",
        "            if row['I_EmerRecepAtend'] != 0:\n",
        "                log.iloc[index]['I3'] = row['I_Tomo'] - row['I_EmerRecepAtend']\n",
        "            else:\n",
        "                log.iloc[index]['I3'] = row['I_Tomo'] - row['I_ISC']\n",
        "        else:\n",
        "            log.iloc[index]['I3'] = 0\n",
        "\n",
        "    I3 = (np.sum(log['I3'])) / (np.sum(log['I3']>0))\n",
        "\n",
        "    #Calculating I2\n",
        "    table_I2 = log\n",
        "    indexNames = log[log['O_Etiolo_discharge'] == 0].index\n",
        "    table_I2 = log.drop(indexNames)\n",
        "    table_I2.reset_index(drop=True, inplace=True)\n",
        "    #table_I2.drop('index',axis='columns',inplace=True)\n",
        "    table_I2[\"I2\"] = np.nan\n",
        "    for index,row in table_I2.iterrows():\n",
        "        table_I2.iloc[index]['I2'] = row['O_Etiolo_discharge'] - row['I_ISC']\n",
        "    I2 = (np.sum(table_I2['I2'])) / (np.sum(table_I2['I2']>0))\n",
        "    \n",
        "    #Calculating I1\n",
        "    table_I1=log.reset_index()\n",
        "    table_I1.drop('index',axis='columns',inplace=True)\n",
        "    rows=len(log.index)-1\n",
        "    df_I1 = pd.DataFrame(np.zeros((rows+1, days+1)))   \n",
        "    for P in range(0,rows+1):\n",
        "        for L in range(0, days+1):\n",
        "            day = L*1440\n",
        "            if (table_I1['I_ISC'][P] <= day) and (table_I1['O_Etiolo_discharge'][P] > (day+1440)):\n",
        "                df_I1[L][P] = 1\n",
        "            else:\n",
        "                df_I1[L][P] = 0\n",
        "\n",
        "    df_I1.drop(columns=df_I1.columns[:45], axis=1, inplace=True)\n",
        "    df_I1.drop(columns=df_I1.columns[-45:], axis=1, inplace=True)\n",
        "    I1_day = df_I1.sum(axis=0)\n",
        "    I1_media = df_I1.sum(axis=0).mean()\n",
        "    \n",
        "    ##Calculating I1b\n",
        "    if I1_media/capacity >= 0.95 or I1_media/capacity <= 0.75:\n",
        "        I1b=1\n",
        "    else:\n",
        "        I1b=0\n",
        "\n",
        "    #df_ind['Scenario'][indicator_line] = f\"P1:{capacity} - P2:{mean_etio_eval} - SEED:{seed_i}\"   \n",
        "    df_ind['I1'][indicator_line] = I1_media/capacity\n",
        "    df_ind['I1b'][indicator_line] = I1b\n",
        "    df_ind['I2'][indicator_line] = I2\n",
        "    df_ind['I3'][indicator_line] = I3\n",
        "    df_ind['I4'][indicator_line] = I4\n",
        "\n",
        "    return log, df_ind, I1_day, table_I2"
      ],
      "metadata": {
        "id": "BKvbrgPnfNG9"
      },
      "execution_count": 3,
      "outputs": []
    },
    {
      "cell_type": "markdown",
      "source": [
        "### 2.3 Main Simulation Function"
      ],
      "metadata": {
        "id": "U9GkRhj0l99M"
      }
    },
    {
      "cell_type": "code",
      "source": [
        "%%time\n",
        "def simulator(capacity, mean_etio_eval, days=450):\n",
        "  global log, inter_arrival_time, Bed, indicator_line, df_ind, mean_ind\n",
        "  inter_arrival_time = 579.92\n",
        "  until=1440*days\n",
        "  seed = [11,10]#[11,10,9] #[10, 2, 13, 14, 5, 28, 6, 11, 27, 21, 20, 30, 15, 18, 1]\n",
        "  df_ind = pd.DataFrame(np.zeros(shape=(len(seed),5)),columns=['I1','I2','I1b','I3','I4'])\n",
        "  indicator_line=0\n",
        "  for k in range(0, len(seed)):\n",
        "    random.seed(seed[k])\n",
        "    env = simpy.Environment()\n",
        "    Bed = simpy.Resource(env, capacity=capacity)\n",
        "    env.process(OnsetOfSymptoms(env, mean_etio_eval))\n",
        "    env.run(until=until)\n",
        "    log = log.apply(pd.to_numeric)\n",
        "    log.drop(axis=1, columns=['id'], inplace=True)\n",
        "    log.reset_index(drop=True, inplace=True)\n",
        "    indicators(log, df_ind, capacity, mean_etio_eval)\n",
        "    indicator_line = indicator_line + 1\n",
        "    del log\n",
        "  mean_ind = df_ind.mean(axis=0)\n",
        "  mean_ind = mean_ind.drop(['I1b'])\n",
        "  mean_ind['I4']= - mean_ind['I4']\n",
        "  #if mean_ind['I1'] < 0.75 or mean_ind['I1'] > 1:\n",
        "  #  mean_ind['I1b'] = 0\n",
        "  #else:\n",
        "  #  mean_ind['I1b'] = 100000\n",
        "  return df_ind, mean_ind"
      ],
      "metadata": {
        "id": "9tnimh7VfBNp",
        "colab": {
          "base_uri": "https://localhost:8080/"
        },
        "outputId": "a41548f3-c74d-4a91-b611-db1ce21d8dd8"
      },
      "execution_count": 4,
      "outputs": [
        {
          "output_type": "stream",
          "name": "stdout",
          "text": [
            "CPU times: user 4 µs, sys: 0 ns, total: 4 µs\n",
            "Wall time: 6.68 µs\n"
          ]
        }
      ]
    },
    {
      "cell_type": "markdown",
      "source": [
        "### 2.4 Iterator over main function"
      ],
      "metadata": {
        "id": "Rm6MEJkdhMkE"
      }
    },
    {
      "cell_type": "code",
      "source": [
        "def full_simulation(capacity_list, mean_etio_eval_list, days):\n",
        "  series = pd.DataFrame({'capacity-mean_etio_eval': ['I1', 'I2', 'I1b', 'I3', 'I4']}).set_index('capacity-mean_etio_eval')\n",
        "  i=0\n",
        "  for capacity in capacity_list:\n",
        "    for mean_etio_eval in mean_etio_eval_list:\n",
        "      if i==0:\n",
        "        simulator(capacity, mean_etio_eval, days)\n",
        "        series = mean_ind.to_frame(f\"{capacity}-{mean_etio_eval}\")\n",
        "        i+=1\n",
        "      else:\n",
        "        simulator(capacity, mean_etio_eval, days)\n",
        "        result = mean_ind.to_frame(f\"{capacity}-{mean_etio_eval}\")\n",
        "        series = series.merge(right=result, left_index=True, right_index=True, how='inner')\n",
        "        i+=1\n",
        "  return series"
      ],
      "metadata": {
        "id": "1hY4YqzuhMFq"
      },
      "execution_count": 5,
      "outputs": []
    },
    {
      "cell_type": "markdown",
      "source": [
        "## 3. MCDM - PROMETHEE"
      ],
      "metadata": {
        "id": "sp1b0SSIkkdi"
      }
    },
    {
      "cell_type": "markdown",
      "source": [
        "### 3.1 Parcial visualization for testing"
      ],
      "metadata": {
        "id": "gMPojjjh69gG"
      }
    },
    {
      "cell_type": "code",
      "source": [
        "def imprime_matriz(matriz, n, nn):\n",
        "    print('           ', end='')\n",
        "    for i in range(n_alt):\n",
        "        print(f'({lista_alt[i]:^5})', end='')\n",
        "    print()\n",
        "    for j in range(n):\n",
        "        print(f'{lista_crit[j]:^10}', '', end='')\n",
        "        for i in range(nn):\n",
        "            print(f'[{matriz[j][i]:^5}]', end='')\n",
        "        print()\n",
        "\n",
        "\n",
        "def imprime_matriz_critt(matriz, n, nn, nnn):\n",
        "    for j in range(n):\n",
        "        print(f'Matriz referente ao critério ({lista_crit[j]})')\n",
        "        for i in range(nn):\n",
        "            for h in range(nnn):\n",
        "                print(f'[{matriz[j][i][h]:^5}]', end='')\n",
        "            print()\n",
        "        print('')\n",
        "\n",
        "\n",
        "def imprime_matriz_AxA(matriz, n, nn):\n",
        "    print('      ', end='')\n",
        "    for i in range(n_alt):\n",
        "        print(f'({lista_alt[i]:^5})', end='')\n",
        "    print()\n",
        "    for j in range(n):\n",
        "        print(f'{lista_alt[j]:^5}', '', end='')\n",
        "        for i in range(nn):\n",
        "            print(f'[{matriz[j][i]:^5}]', end='')\n",
        "        print()"
      ],
      "metadata": {
        "id": "0xL6Svea7A86"
      },
      "execution_count": 6,
      "outputs": []
    },
    {
      "cell_type": "markdown",
      "source": [
        "### 3.2 Initial matrix"
      ],
      "metadata": {
        "id": "XxxzjQaF7CCo"
      }
    },
    {
      "cell_type": "code",
      "source": [
        "def matrizes_criterios(n_crit,n_alt,matriz_M):\n",
        "    matriz_comparacao = []\n",
        "    for j in range(0, n_crit):\n",
        "        matriz_comp_crit = []\n",
        "        for i in range(0, n_alt):\n",
        "            comp_lin = []\n",
        "            for h in range(0, n_alt):\n",
        "                if max_min[j] == 'max':\n",
        "                    valores_comp = round(((matriz_M[j][i]) - (matriz_M[j][h])), 2)\n",
        "                elif max_min[j] == 'min':\n",
        "                    valores_comp = round(((matriz_M[j][h]) - (matriz_M[j][i])), 2)\n",
        "                comp_lin.append(valores_comp)\n",
        "            matriz_comp_crit.append(comp_lin)\n",
        "        matriz_comparacao.append(matriz_comp_crit)  \n",
        "    return matriz_comparacao"
      ],
      "metadata": {
        "id": "nGLLPvvg7Ipb"
      },
      "execution_count": 7,
      "outputs": []
    },
    {
      "cell_type": "markdown",
      "source": [
        "### 3.3 Statistiscal curve transformation"
      ],
      "metadata": {
        "id": "hdxej4uk7MM8"
      }
    },
    {
      "cell_type": "code",
      "source": [
        "def apl_curva(matriz_func_crit, matriz_comparacao, n_crit, n_alt):\n",
        "  funcao_avl = matriz_func_crit\n",
        "  matriz_funcao = []\n",
        "  grau = 1\n",
        "  for j in range(0, n_crit):\n",
        "    matriz_func_crit = []    \n",
        "    for i in range(0, n_alt):\n",
        "        func_lin = []\n",
        "        for h in range(0, n_alt):\n",
        "            # Função USUAL\n",
        "            if funcao_avl[j] == 1:\n",
        "                x = (matriz_comparacao[j][i][h])\n",
        "                if x <= 0:\n",
        "                    grau = 0\n",
        "                else:\n",
        "                    grau = 1\n",
        "\n",
        "                if grau < 0:\n",
        "                    grau = 0\n",
        "\n",
        "            # Função U-SHAPE\n",
        "            if funcao_avl[j] == 2:\n",
        "                x = (matriz_comparacao[j][i][h])\n",
        "                if x <= q[j]:\n",
        "                    grau = 0\n",
        "                else:\n",
        "                    grau = 1\n",
        "\n",
        "                if grau < 0:\n",
        "                    grau = 0\n",
        "\n",
        "            # Função V-SHAPE\n",
        "            if funcao_avl[j] == 3:\n",
        "                x = (matriz_comparacao[j][i][h])\n",
        "                if x <= p[j]:\n",
        "                    grau = round((x/p[j]), 3)\n",
        "                else:\n",
        "                    grau = 1\n",
        "\n",
        "                if grau < 0:\n",
        "                    grau = 0\n",
        "\n",
        "            # Função LEVEL\n",
        "            if funcao_avl[j] == 4:\n",
        "                x = (matriz_comparacao[j][i][h])\n",
        "                if x <= q[j]:\n",
        "                    grau = 0\n",
        "                elif x > q[j] and x <= p[j]:\n",
        "                    grau = 0.5\n",
        "                else:\n",
        "                    grau = 1\n",
        "\n",
        "                if grau < 0:\n",
        "                    grau = 0\n",
        "\n",
        "            # Função V-SHAPE-I\n",
        "            if funcao_avl[j] == 5:\n",
        "                x = (matriz_comparacao[j][i][h])\n",
        "                if x <= q[j]:\n",
        "                    grau = 0\n",
        "                elif x > q[j] and x <= p[j]:\n",
        "                    grau = round(((x-q[j])/(p[j]-q[j])), 3)\n",
        "                else:\n",
        "                    grau = 1\n",
        "\n",
        "                if grau < 0:\n",
        "                    grau = 0\n",
        "\n",
        "            # Função GAUSSIAN\n",
        "            import math\n",
        "            if funcao_avl[j] == 6:\n",
        "                x = (matriz_comparacao[j][i][h])\n",
        "                if x <= 0:\n",
        "                    grau = 0\n",
        "                else:\n",
        "                    grau = round((1 - (math.e ** ((-((x)**2))/(2*(s[j] ** 2))))), 3)\n",
        "                if grau < 0:\n",
        "                    grau = 0\n",
        "            # Fim das funções, abaixo segue a criação da matriz com os graus.\n",
        "            func_lin.append(grau)\n",
        "        matriz_func_crit.append(func_lin)\n",
        "    matriz_funcao.append(matriz_func_crit)\n",
        "  return matriz_funcao"
      ],
      "metadata": {
        "id": "LQWcBx6i7QBF"
      },
      "execution_count": 8,
      "outputs": []
    },
    {
      "cell_type": "markdown",
      "source": [
        "### 3.4 Ponderation"
      ],
      "metadata": {
        "id": "n9_EuIJO7Wo8"
      }
    },
    {
      "cell_type": "code",
      "source": [
        "def ponderar(n_crit,n_alt, matriz_funcao, lista_peso):\n",
        "  matriz_peso = []\n",
        "  for j in range(0, n_crit):\n",
        "      matriz_peso_crit = []\n",
        "      for i in range(0, n_alt):\n",
        "          linha_peso = []\n",
        "          for h in range(0, n_alt):\n",
        "              valor_alt = round(float((matriz_funcao[j][i][h]) * lista_peso[j]), 3)\n",
        "              # Fim da ponderagem, abaixo segue a criação da matriz\n",
        "              # com os valores multiplicados pelos respectivos pesos.\n",
        "              linha_peso.append(valor_alt)\n",
        "          matriz_peso_crit.append(linha_peso)\n",
        "      matriz_peso.append(matriz_peso_crit)\n",
        "  return matriz_peso"
      ],
      "metadata": {
        "id": "sdD2MahZ7YMu"
      },
      "execution_count": 9,
      "outputs": []
    },
    {
      "cell_type": "markdown",
      "source": [
        "### 3.5 Final matrix"
      ],
      "metadata": {
        "id": "dKQWJG3f7aUm"
      }
    },
    {
      "cell_type": "code",
      "source": [
        "def matriz_fin(n_alt, n_crit, matriz_peso):\n",
        "  matriz_final = []\n",
        "\n",
        "  for i in range(0, n_alt):\n",
        "      linha_final = []\n",
        "      for h in range(0, n_alt):\n",
        "          Soma_valor = 0\n",
        "          for j in range(0, n_crit):\n",
        "              valor_final = matriz_peso[j][i][h]\n",
        "              Soma_valor += valor_final\n",
        "\n",
        "          media_valor_final = round(float(Soma_valor/n_crit), 3)\n",
        "\n",
        "          linha_final.append(media_valor_final)\n",
        "      matriz_final.append(linha_final)\n",
        "  return matriz_final"
      ],
      "metadata": {
        "id": "uU69Ny8-7crS"
      },
      "execution_count": 10,
      "outputs": []
    },
    {
      "cell_type": "markdown",
      "source": [
        "### 3.6 Final results"
      ],
      "metadata": {
        "id": "I-Hx7DRE7ej1"
      }
    },
    {
      "cell_type": "code",
      "source": [
        "def Promethee_result(n_alt, matriz_final, lista_alt):\n",
        "  lista_fluxo_positivo = []\n",
        "  for i in range(0, n_alt):\n",
        "      fluxo_posit = 0\n",
        "      for h in range(0, n_alt):\n",
        "          fluxo_posit += matriz_final[i][h]\n",
        "      lista_fluxo_positivo.append(round(fluxo_posit, 3))\n",
        "\n",
        "  lista_fluxo_negativo = []\n",
        "  for i in range(0, n_alt):\n",
        "      fluxo_neg = 0\n",
        "      for h in range(0, n_alt):\n",
        "          fluxo_neg += matriz_final[h][i]\n",
        "      lista_fluxo_negativo.append(round(fluxo_neg, 3))\n",
        "\n",
        "  lista_fluxo_liquido = []\n",
        "  for i in range(0, n_alt):\n",
        "      fluxo_liq = (lista_fluxo_positivo[i]) - (lista_fluxo_negativo[i])\n",
        "      lista_fluxo_liquido.append(round(fluxo_liq, 3))\n",
        "  Lista_ordenada = (sorted(lista_fluxo_liquido, reverse=True))\n",
        "\n",
        "  df_ordenado = pd.DataFrame({'Valor': []})\n",
        "  for i in range(0, n_alt):\n",
        "      print(lista_alt[lista_fluxo_liquido.index(Lista_ordenada[i])], '=', Lista_ordenada[i])\n",
        "      df_ordenado = df_ordenado.append(pd.DataFrame({'Valor':Lista_ordenada[i]}, index=[lista_alt[lista_fluxo_liquido.index(Lista_ordenada[i])]]))\n",
        "\n",
        "  return df_ordenado"
      ],
      "metadata": {
        "id": "W29BJofn7hHv"
      },
      "execution_count": 11,
      "outputs": []
    },
    {
      "cell_type": "markdown",
      "source": [
        "### 3.7 Promethee Main Function"
      ],
      "metadata": {
        "id": "3UjvMsDU7rvH"
      }
    },
    {
      "cell_type": "code",
      "source": [
        "def promethee_exec(series,\n",
        "                   max_min,\n",
        "                   matriz_func_crit,\n",
        "                   p,\n",
        "                   q,\n",
        "                   s,\n",
        "                   lista_peso):\n",
        "  \n",
        "  series = series.iloc[1: , :]\n",
        "  lista_alt= np.array(list(series.columns))         # ['a1', 'a2'])   #nomes\n",
        "  lista_crit= np.array(list(series.index))          # ['c1', 'c2'])  #nomes\n",
        "  n_alt = len(lista_alt)                            # tamanho da lista\n",
        "  n_crit = len(lista_crit)                          # tamanho da lista\n",
        "  matriz_M = np.array(series.to_numpy())            # ([[1,4],[2,3]]) respostas do MCDM\n",
        "  #imprime_matriz(matriz_M, n_crit, n_alt)\n",
        "  matriz_comparacao = matrizes_criterios(n_crit,n_alt,matriz_M)\n",
        "  #imprime_matriz_critt(matriz_comparacao, n_crit, n_alt, n_alt)\n",
        "  matriz_comparacao = matrizes_criterios(n_crit,n_alt,matriz_M)\n",
        "  #imprime_matriz_critt(matriz_comparacao, n_crit, n_alt, n_alt)\n",
        "  matriz_funcao = apl_curva(matriz_func_crit, matriz_comparacao, n_crit, n_alt)\n",
        "  #imprime_matriz_critt(matriz_funcao, n_crit, n_alt, n_alt)\n",
        "  matriz_peso = ponderar(n_crit,n_alt, matriz_funcao, lista_peso)\n",
        "  #imprime_matriz_critt(matriz_peso, n_crit, n_alt, n_alt)\n",
        "  matriz_final = matriz_fin(n_alt, n_crit, matriz_peso)\n",
        "  #imprime_matriz_AxA(matriz_final, n_alt, n_alt)\n",
        "  df_ordenado = Promethee_result(n_alt, matriz_final, lista_alt)\n",
        "  return df_ordenado"
      ],
      "metadata": {
        "id": "ePYuEB4H7t_9"
      },
      "execution_count": 12,
      "outputs": []
    },
    {
      "cell_type": "markdown",
      "source": [
        "## 4. SIMPLE SIMULATION EXECUTION"
      ],
      "metadata": {
        "id": "hK5ZDwkL0gvU"
      }
    },
    {
      "cell_type": "markdown",
      "source": [
        "### 4.1 Priorization Function "
      ],
      "metadata": {
        "id": "_bFn14t50oHo"
      }
    },
    {
      "cell_type": "code",
      "source": [
        "def geracao(capacity_list, mean_etio_eval_list, days, max_min, matriz_func_crit, p, q, s, lista_peso):\n",
        "  series = full_simulation(capacity_list, mean_etio_eval_list, days)\n",
        "  result_geracao = promethee_exec(series, max_min , matriz_func_crit, p, q, s, lista_peso)\n",
        "  return result_geracao"
      ],
      "metadata": {
        "id": "_R80XZsB0gBb"
      },
      "execution_count": 13,
      "outputs": []
    },
    {
      "cell_type": "markdown",
      "source": [
        "### 4.2 Test code"
      ],
      "metadata": {
        "id": "z1dojXFq0tBb"
      }
    },
    {
      "cell_type": "code",
      "source": [
        "#INPUTS SIMULACAO\n",
        "capacity_list = [30,25]\n",
        "mean_etio_eval_list = [14062,7200]\n",
        "days = 200\n",
        "#INPUTS MCDM\n",
        "max_min = np.array(['max', 'min', 'min', 'max'])  # objetivo dos criterios\n",
        "matriz_func_crit = [3, 2, 1, 1]                   # tipo de curva\n",
        "p = np.array([1, 1, 1, 1])                        # parametro p da curva, quando existir\n",
        "q = np.array([1, 1, 1, 1])                        # parametro q da curva, quando existir\n",
        "s = np.array(['', '', '', ''])                    # parametro s da curva, quando existir\n",
        "lista_peso = [0.3, 0.7,0.3,0.3]                   # deve ter soma = 1"
      ],
      "metadata": {
        "id": "uInLZ9SZ0m4g"
      },
      "execution_count": 14,
      "outputs": []
    },
    {
      "cell_type": "code",
      "source": [
        "result_geracao = geracao(capacity_list, mean_etio_eval_list, days, max_min, matriz_func_crit, p, q, s, lista_peso)\n",
        "result_geracao"
      ],
      "metadata": {
        "colab": {
          "base_uri": "https://localhost:8080/",
          "height": 0
        },
        "id": "qXeP_G2t0yg5",
        "outputId": "f749a32f-6bb4-4b23-a602-5bcd9f630b23"
      },
      "execution_count": 15,
      "outputs": [
        {
          "output_type": "stream",
          "name": "stdout",
          "text": [
            "30-7200 = 0.699\n",
            "25-7200 = 0.233\n",
            "30-14062 = -0.233\n",
            "25-14062 = -0.699\n"
          ]
        },
        {
          "output_type": "execute_result",
          "data": {
            "text/plain": [
              "          Valor\n",
              "30-7200   0.699\n",
              "25-7200   0.233\n",
              "30-14062 -0.233\n",
              "25-14062 -0.699"
            ],
            "text/html": [
              "\n",
              "  <div id=\"df-ee1d11ba-94e9-4f28-9c77-37f21d685e6c\">\n",
              "    <div class=\"colab-df-container\">\n",
              "      <div>\n",
              "<style scoped>\n",
              "    .dataframe tbody tr th:only-of-type {\n",
              "        vertical-align: middle;\n",
              "    }\n",
              "\n",
              "    .dataframe tbody tr th {\n",
              "        vertical-align: top;\n",
              "    }\n",
              "\n",
              "    .dataframe thead th {\n",
              "        text-align: right;\n",
              "    }\n",
              "</style>\n",
              "<table border=\"1\" class=\"dataframe\">\n",
              "  <thead>\n",
              "    <tr style=\"text-align: right;\">\n",
              "      <th></th>\n",
              "      <th>Valor</th>\n",
              "    </tr>\n",
              "  </thead>\n",
              "  <tbody>\n",
              "    <tr>\n",
              "      <th>30-7200</th>\n",
              "      <td>0.699</td>\n",
              "    </tr>\n",
              "    <tr>\n",
              "      <th>25-7200</th>\n",
              "      <td>0.233</td>\n",
              "    </tr>\n",
              "    <tr>\n",
              "      <th>30-14062</th>\n",
              "      <td>-0.233</td>\n",
              "    </tr>\n",
              "    <tr>\n",
              "      <th>25-14062</th>\n",
              "      <td>-0.699</td>\n",
              "    </tr>\n",
              "  </tbody>\n",
              "</table>\n",
              "</div>\n",
              "      <button class=\"colab-df-convert\" onclick=\"convertToInteractive('df-ee1d11ba-94e9-4f28-9c77-37f21d685e6c')\"\n",
              "              title=\"Convert this dataframe to an interactive table.\"\n",
              "              style=\"display:none;\">\n",
              "        \n",
              "  <svg xmlns=\"http://www.w3.org/2000/svg\" height=\"24px\"viewBox=\"0 0 24 24\"\n",
              "       width=\"24px\">\n",
              "    <path d=\"M0 0h24v24H0V0z\" fill=\"none\"/>\n",
              "    <path d=\"M18.56 5.44l.94 2.06.94-2.06 2.06-.94-2.06-.94-.94-2.06-.94 2.06-2.06.94zm-11 1L8.5 8.5l.94-2.06 2.06-.94-2.06-.94L8.5 2.5l-.94 2.06-2.06.94zm10 10l.94 2.06.94-2.06 2.06-.94-2.06-.94-.94-2.06-.94 2.06-2.06.94z\"/><path d=\"M17.41 7.96l-1.37-1.37c-.4-.4-.92-.59-1.43-.59-.52 0-1.04.2-1.43.59L10.3 9.45l-7.72 7.72c-.78.78-.78 2.05 0 2.83L4 21.41c.39.39.9.59 1.41.59.51 0 1.02-.2 1.41-.59l7.78-7.78 2.81-2.81c.8-.78.8-2.07 0-2.86zM5.41 20L4 18.59l7.72-7.72 1.47 1.35L5.41 20z\"/>\n",
              "  </svg>\n",
              "      </button>\n",
              "      \n",
              "  <style>\n",
              "    .colab-df-container {\n",
              "      display:flex;\n",
              "      flex-wrap:wrap;\n",
              "      gap: 12px;\n",
              "    }\n",
              "\n",
              "    .colab-df-convert {\n",
              "      background-color: #E8F0FE;\n",
              "      border: none;\n",
              "      border-radius: 50%;\n",
              "      cursor: pointer;\n",
              "      display: none;\n",
              "      fill: #1967D2;\n",
              "      height: 32px;\n",
              "      padding: 0 0 0 0;\n",
              "      width: 32px;\n",
              "    }\n",
              "\n",
              "    .colab-df-convert:hover {\n",
              "      background-color: #E2EBFA;\n",
              "      box-shadow: 0px 1px 2px rgba(60, 64, 67, 0.3), 0px 1px 3px 1px rgba(60, 64, 67, 0.15);\n",
              "      fill: #174EA6;\n",
              "    }\n",
              "\n",
              "    [theme=dark] .colab-df-convert {\n",
              "      background-color: #3B4455;\n",
              "      fill: #D2E3FC;\n",
              "    }\n",
              "\n",
              "    [theme=dark] .colab-df-convert:hover {\n",
              "      background-color: #434B5C;\n",
              "      box-shadow: 0px 1px 3px 1px rgba(0, 0, 0, 0.15);\n",
              "      filter: drop-shadow(0px 1px 2px rgba(0, 0, 0, 0.3));\n",
              "      fill: #FFFFFF;\n",
              "    }\n",
              "  </style>\n",
              "\n",
              "      <script>\n",
              "        const buttonEl =\n",
              "          document.querySelector('#df-ee1d11ba-94e9-4f28-9c77-37f21d685e6c button.colab-df-convert');\n",
              "        buttonEl.style.display =\n",
              "          google.colab.kernel.accessAllowed ? 'block' : 'none';\n",
              "\n",
              "        async function convertToInteractive(key) {\n",
              "          const element = document.querySelector('#df-ee1d11ba-94e9-4f28-9c77-37f21d685e6c');\n",
              "          const dataTable =\n",
              "            await google.colab.kernel.invokeFunction('convertToInteractive',\n",
              "                                                     [key], {});\n",
              "          if (!dataTable) return;\n",
              "\n",
              "          const docLinkHtml = 'Like what you see? Visit the ' +\n",
              "            '<a target=\"_blank\" href=https://colab.research.google.com/notebooks/data_table.ipynb>data table notebook</a>'\n",
              "            + ' to learn more about interactive tables.';\n",
              "          element.innerHTML = '';\n",
              "          dataTable['output_type'] = 'display_data';\n",
              "          await google.colab.output.renderOutput(dataTable, element);\n",
              "          const docLink = document.createElement('div');\n",
              "          docLink.innerHTML = docLinkHtml;\n",
              "          element.appendChild(docLink);\n",
              "        }\n",
              "      </script>\n",
              "    </div>\n",
              "  </div>\n",
              "  "
            ]
          },
          "metadata": {},
          "execution_count": 15
        }
      ]
    },
    {
      "cell_type": "markdown",
      "source": [
        "## 5. OPTIMIZATION - GA"
      ],
      "metadata": {
        "id": "5vrvVZrJknbd"
      }
    },
    {
      "cell_type": "markdown",
      "source": [
        "#### 5.1 Optimization Libraries"
      ],
      "metadata": {
        "id": "p3DW5sFjrYqF"
      }
    },
    {
      "cell_type": "code",
      "source": [
        "!pip install pymoo\n",
        "from pymoo.algorithms.soo.nonconvex.ga import GA\n",
        "from pymoo.problems import get_problem\n",
        "from pymoo.optimize import minimize\n",
        "import pandas as pd\n",
        "import numpy as np\n",
        "from pymoo.core.problem import Problem"
      ],
      "metadata": {
        "colab": {
          "base_uri": "https://localhost:8080/"
        },
        "id": "YHb_1ie4_mV9",
        "outputId": "b7c5ea98-27a0-4874-f811-9bb78f8f4fb1"
      },
      "execution_count": 16,
      "outputs": [
        {
          "output_type": "stream",
          "name": "stdout",
          "text": [
            "Looking in indexes: https://pypi.org/simple, https://us-python.pkg.dev/colab-wheels/public/simple/\n",
            "Collecting pymoo\n",
            "  Downloading pymoo-0.6.0-cp37-cp37m-manylinux_2_24_x86_64.whl (1.9 MB)\n",
            "\u001b[K     |████████████████████████████████| 1.9 MB 5.0 MB/s \n",
            "\u001b[?25hRequirement already satisfied: scipy>=1.1 in /usr/local/lib/python3.7/dist-packages (from pymoo) (1.7.3)\n",
            "Requirement already satisfied: matplotlib>=3 in /usr/local/lib/python3.7/dist-packages (from pymoo) (3.2.2)\n",
            "Requirement already satisfied: autograd>=1.4 in /usr/local/lib/python3.7/dist-packages (from pymoo) (1.4)\n",
            "Collecting Deprecated\n",
            "  Downloading Deprecated-1.2.13-py2.py3-none-any.whl (9.6 kB)\n",
            "Collecting cma==3.2.2\n",
            "  Downloading cma-3.2.2-py2.py3-none-any.whl (249 kB)\n",
            "\u001b[K     |████████████████████████████████| 249 kB 62.4 MB/s \n",
            "\u001b[?25hRequirement already satisfied: dill in /usr/local/lib/python3.7/dist-packages (from pymoo) (0.3.5.1)\n",
            "Collecting alive-progress\n",
            "  Downloading alive_progress-2.4.1-py3-none-any.whl (80 kB)\n",
            "\u001b[K     |████████████████████████████████| 80 kB 5.3 MB/s \n",
            "\u001b[?25hRequirement already satisfied: numpy>=1.15 in /usr/local/lib/python3.7/dist-packages (from pymoo) (1.21.6)\n",
            "Requirement already satisfied: future>=0.15.2 in /usr/local/lib/python3.7/dist-packages (from autograd>=1.4->pymoo) (0.16.0)\n",
            "Requirement already satisfied: pyparsing!=2.0.4,!=2.1.2,!=2.1.6,>=2.0.1 in /usr/local/lib/python3.7/dist-packages (from matplotlib>=3->pymoo) (3.0.9)\n",
            "Requirement already satisfied: cycler>=0.10 in /usr/local/lib/python3.7/dist-packages (from matplotlib>=3->pymoo) (0.11.0)\n",
            "Requirement already satisfied: python-dateutil>=2.1 in /usr/local/lib/python3.7/dist-packages (from matplotlib>=3->pymoo) (2.8.2)\n",
            "Requirement already satisfied: kiwisolver>=1.0.1 in /usr/local/lib/python3.7/dist-packages (from matplotlib>=3->pymoo) (1.4.4)\n",
            "Requirement already satisfied: typing-extensions in /usr/local/lib/python3.7/dist-packages (from kiwisolver>=1.0.1->matplotlib>=3->pymoo) (4.1.1)\n",
            "Requirement already satisfied: six>=1.5 in /usr/local/lib/python3.7/dist-packages (from python-dateutil>=2.1->matplotlib>=3->pymoo) (1.15.0)\n",
            "Collecting grapheme==0.6.0\n",
            "  Downloading grapheme-0.6.0.tar.gz (207 kB)\n",
            "\u001b[K     |████████████████████████████████| 207 kB 68.6 MB/s \n",
            "\u001b[?25hCollecting about-time==3.1.1\n",
            "  Downloading about_time-3.1.1-py3-none-any.whl (9.1 kB)\n",
            "Requirement already satisfied: wrapt<2,>=1.10 in /usr/local/lib/python3.7/dist-packages (from Deprecated->pymoo) (1.14.1)\n",
            "Building wheels for collected packages: grapheme\n",
            "  Building wheel for grapheme (setup.py) ... \u001b[?25l\u001b[?25hdone\n",
            "  Created wheel for grapheme: filename=grapheme-0.6.0-py3-none-any.whl size=210096 sha256=0e236f640ed698aca45af40dce6518d100da662ccf7c8cea6ce488ed45aac6ad\n",
            "  Stored in directory: /root/.cache/pip/wheels/71/fc/c8/142ef03b79c02b618fe80b9f2d01c25bd55f60b0c58eab3f0e\n",
            "Successfully built grapheme\n",
            "Installing collected packages: grapheme, about-time, Deprecated, cma, alive-progress, pymoo\n",
            "Successfully installed Deprecated-1.2.13 about-time-3.1.1 alive-progress-2.4.1 cma-3.2.2 grapheme-0.6.0 pymoo-0.6.0\n"
          ]
        }
      ]
    },
    {
      "cell_type": "markdown",
      "source": [
        "#### 5.2 Simulation interator for optimization"
      ],
      "metadata": {
        "id": "hD45j8v9rbtz"
      }
    },
    {
      "cell_type": "code",
      "source": [
        "a,b = simulator(12,12,120)"
      ],
      "metadata": {
        "id": "648XIItOZOrk"
      },
      "execution_count": 18,
      "outputs": []
    },
    {
      "cell_type": "code",
      "source": [
        "\n",
        "df=pd.DataFrame([[1,2],[200,300]],columns=['capacity','mean_etio_eval'])\n",
        "def simulate_list(list_inputs):\n",
        "  sim_list=[]\n",
        "  for i,row in list_inputs.iterrows():\n",
        "    sim_list.append(simulator(row['capacity'],row['mean_etio_eval'],120)[1].to_numpy())\n",
        "    #print(sim_list)\n",
        "  return np.array(sim_list).reshape(-1,4)"
      ],
      "metadata": {
        "id": "p59Q2b5wu3fd"
      },
      "execution_count": 20,
      "outputs": []
    },
    {
      "cell_type": "markdown",
      "source": [
        "#### 5.2 Main GA Algorithm\n"
      ],
      "metadata": {
        "id": "6Bo82GhzExQc"
      }
    },
    {
      "cell_type": "code",
      "source": [
        "class MedicalLine(Problem):\n",
        "\n",
        "    def __init__(self,):\n",
        "        xl=np.zeros(2)\n",
        "        xu=np.zeros(2)\n",
        "        xl[0]=20\n",
        "        xu[0]=30\n",
        "        xl[1]=7200\n",
        "        xu[1]=14062\n",
        "        super().__init__(n_var=2, n_obj=4, n_ieq_constr=2, xl=xl, xu=xu)\n",
        "\n",
        "    def _evaluate(self, list_inputs, out, *args, **kwargs):\n",
        "        #print(list_inputs)\n",
        "        df=pd.DataFrame(list_inputs, columns=['capacity','mean_etio_eval'])\n",
        "        #print('shape',df.shape)\n",
        "        out[\"F\"] = simulate_list(df)\n",
        "        G1 = out[\"F\"][:,0] - 0.95\n",
        "        G2 = - out[\"F\"][:,0] + 0.65\n",
        "        out[\"G\"] = [G1,G2]\n",
        "\n",
        "        #print(out)"
      ],
      "metadata": {
        "id": "OvsTZ7ldk5XC"
      },
      "execution_count": 26,
      "outputs": []
    },
    {
      "cell_type": "markdown",
      "source": [
        "#### 5.3 NSGA3 Execution\n"
      ],
      "metadata": {
        "id": "WgbL06hdE_RF"
      }
    },
    {
      "cell_type": "code",
      "source": [
        "from google.colab import drive\n",
        "drive.mount('/content/gdrive')"
      ],
      "metadata": {
        "id": "S5f9hswWa41c"
      },
      "execution_count": null,
      "outputs": []
    },
    {
      "cell_type": "code",
      "source": [
        "from pymoo.algorithms.moo.nsga3 import NSGA3\n",
        "from pymoo.optimize import minimize\n",
        "from pymoo.problems import get_problem\n",
        "from pymoo.util.ref_dirs import get_reference_directions\n",
        "from pymoo.visualization.scatter import Scatter\n",
        "from pymoo.constraints.as_obj import ConstraintsAsObjective\n",
        "from pymoo.constraints.as_penalty import ConstraintsAsPenalty\n",
        "from pymoo.problems.single import G1\n",
        "\n",
        "# create the reference directions to be used for the optimization\n",
        "ref_dirs = get_reference_directions(\"das-dennis\", 4, n_partitions=2)\n",
        "\n",
        "# create the algorithm object\n",
        "algorithm = NSGA3(pop_size=15,\n",
        "                  ref_dirs=ref_dirs)\n",
        "\n",
        "from pymoo.termination.default import DefaultMultiObjectiveTermination\n",
        "\n",
        "termination = DefaultMultiObjectiveTermination(\n",
        "    xtol=1e-8,\n",
        "    cvtol=1e-6,\n",
        "    ftol=0.0025,\n",
        "    period=15,\n",
        "    n_max_gen=20,\n",
        "    n_max_evals=100000\n",
        ")\n",
        "\n",
        "# execute the optimization\n",
        "res = minimize(MedicalLine(),\n",
        "               algorithm,\n",
        "               seed=1,\n",
        "               verbose=True,\n",
        "               save_history=True,\n",
        "               termination=termination)"
      ],
      "metadata": {
        "id": "TMQWL0gx_TX_",
        "colab": {
          "base_uri": "https://localhost:8080/"
        },
        "outputId": "6a582944-aae5-4683-f02e-1e347aff1739"
      },
      "execution_count": 27,
      "outputs": [
        {
          "output_type": "stream",
          "name": "stdout",
          "text": [
            "==========================================================================================\n",
            "n_gen  |  n_eval  | n_nds  |     cv_min    |     cv_avg    |      eps      |   indicator  \n",
            "==========================================================================================\n",
            "     1 |       15 |      3 |  0.000000E+00 |  0.1200814514 |             - |             -\n",
            "     2 |       30 |      2 |  0.000000E+00 |  0.000000E+00 |  2.084262E+01 |         ideal\n",
            "     3 |       45 |      3 |  0.000000E+00 |  0.000000E+00 |  0.9227611482 |         ideal\n",
            "     4 |       60 |      3 |  0.000000E+00 |  0.000000E+00 |  0.4461758535 |         ideal\n",
            "     5 |       75 |      4 |  0.000000E+00 |  0.000000E+00 |  0.4053398127 |         ideal\n",
            "     6 |       90 |      5 |  0.000000E+00 |  0.000000E+00 |  0.1899853771 |             f\n",
            "     7 |      105 |      4 |  0.000000E+00 |  0.000000E+00 |  0.000000E+00 |             f\n",
            "     8 |      120 |      4 |  0.000000E+00 |  0.000000E+00 |  0.1339030010 |         ideal\n",
            "     9 |      135 |      4 |  0.000000E+00 |  0.000000E+00 |  0.000000E+00 |             f\n",
            "    10 |      150 |      2 |  0.000000E+00 |  0.000000E+00 |  0.3479753435 |         ideal\n",
            "    11 |      165 |      2 |  0.000000E+00 |  0.000000E+00 |  0.000000E+00 |             f\n",
            "    12 |      180 |      3 |  0.000000E+00 |  0.000000E+00 |  0.0831576596 |         ideal\n",
            "    13 |      195 |      4 |  0.000000E+00 |  0.000000E+00 |  0.0937407707 |         ideal\n",
            "    14 |      210 |      4 |  0.000000E+00 |  0.000000E+00 |  0.1034370384 |         ideal\n",
            "    15 |      225 |      4 |  0.000000E+00 |  0.000000E+00 |  0.0937407707 |         ideal\n",
            "    16 |      240 |      5 |  0.000000E+00 |  0.000000E+00 |  0.1869653632 |         ideal\n",
            "    17 |      255 |      4 |  0.000000E+00 |  0.000000E+00 |  0.2299598992 |         ideal\n",
            "    18 |      270 |      3 |  0.000000E+00 |  0.000000E+00 |  0.1575426436 |         ideal\n",
            "    19 |      285 |      3 |  0.000000E+00 |  0.000000E+00 |  0.2976201427 |         ideal\n",
            "    20 |      300 |      3 |  0.000000E+00 |  0.000000E+00 |  0.4237310332 |         ideal\n"
          ]
        }
      ]
    },
    {
      "cell_type": "code",
      "source": [
        "res.F"
      ],
      "metadata": {
        "colab": {
          "base_uri": "https://localhost:8080/"
        },
        "id": "I0WNPRULJP43",
        "outputId": "eff27443-1377-406a-af75-f8e77827be50"
      },
      "execution_count": 28,
      "outputs": [
        {
          "output_type": "execute_result",
          "data": {
            "text/plain": [
              "array([[ 6.51524681e-01,  1.34207342e+04,  2.43055589e+03,\n",
              "        -4.32106435e-01],\n",
              "       [ 6.50996892e-01,  1.46384198e+04,  2.64470146e+03,\n",
              "        -4.90713706e-01],\n",
              "       [ 6.55408161e-01,  1.35767116e+04,  2.70665383e+03,\n",
              "        -4.90102609e-01]])"
            ]
          },
          "metadata": {},
          "execution_count": 28
        }
      ]
    },
    {
      "cell_type": "code",
      "source": [],
      "metadata": {
        "colab": {
          "base_uri": "https://localhost:8080/"
        },
        "id": "lyE3ZdvfU05M",
        "outputId": "5454c5f9-6031-46ea-cedb-92741069b085"
      },
      "execution_count": 32,
      "outputs": [
        {
          "output_type": "stream",
          "name": "stdout",
          "text": [
            "Mounted at /content/gdrive\n"
          ]
        }
      ]
    },
    {
      "cell_type": "code",
      "source": [
        "import pickle\n",
        "with open('/content/gdrive/MyDrive/ga/NGSA3.pickle', 'wb') as handle:\n",
        "    pickle.dump(res, handle, protocol=pickle.HIGHEST_PROTOCOL)\n",
        "\n"
      ],
      "metadata": {
        "id": "DlYHo6GoUpqz"
      },
      "execution_count": 33,
      "outputs": []
    },
    {
      "cell_type": "code",
      "source": [
        "with open('/content/gdrive/MyDrive/ga/NGSA3.pickle', 'rb') as handle:\n",
        "    F_loaded = pickle.load(handle)\n"
      ],
      "metadata": {
        "id": "ryWBGK5-bKod"
      },
      "execution_count": 34,
      "outputs": []
    },
    {
      "cell_type": "code",
      "source": [
        "F_loaded.F"
      ],
      "metadata": {
        "colab": {
          "base_uri": "https://localhost:8080/"
        },
        "id": "z6VVAdgfbPtb",
        "outputId": "ff09df21-ac8c-4852-fe61-d3c366ba1850"
      },
      "execution_count": 36,
      "outputs": [
        {
          "output_type": "execute_result",
          "data": {
            "text/plain": [
              "array([[ 6.51524681e-01,  1.34207342e+04,  2.43055589e+03,\n",
              "        -4.32106435e-01],\n",
              "       [ 6.50996892e-01,  1.46384198e+04,  2.64470146e+03,\n",
              "        -4.90713706e-01],\n",
              "       [ 6.55408161e-01,  1.35767116e+04,  2.70665383e+03,\n",
              "        -4.90102609e-01]])"
            ]
          },
          "metadata": {},
          "execution_count": 36
        }
      ]
    },
    {
      "cell_type": "code",
      "source": [
        "algorithm = UNSGA3(ref_dirs, pop_size=100)"
      ],
      "metadata": {
        "id": "fyxfntqxVg4e"
      },
      "execution_count": null,
      "outputs": []
    },
    {
      "cell_type": "markdown",
      "source": [
        "#### 5.4 PROMETHEE Execution\n"
      ],
      "metadata": {
        "id": "EFuerR-kFIe6"
      }
    },
    {
      "cell_type": "code",
      "source": [
        "import matplotlib.pyplot as plt"
      ],
      "metadata": {
        "id": "IJzA9ugZT2mn"
      },
      "execution_count": null,
      "outputs": []
    },
    {
      "cell_type": "code",
      "source": [
        "n_evals = []             # corresponding number of function evaluations\\\n",
        "hist_F = []              # the objective space values in each generation\n",
        "hist_cv = []             # constraint violation in each generation\n",
        "hist_cv_avg = []         # average constraint violation in the whole population\n",
        "\n",
        "for algo in res.history:\n",
        "\n",
        "    # store the number of function evaluations\n",
        "    n_evals.append(algo.evaluator.n_eval)\n",
        "\n",
        "    # retrieve the optimum from the algorithm\n",
        "    opt = algo.opt\n",
        "\n",
        "    # store the least contraint violation and the average in each population\n",
        "    hist_cv.append(opt.get(\"CV\").min())\n",
        "    hist_cv_avg.append(algo.pop.get(\"CV\").mean())\n",
        "\n",
        "    # filter out only the feasible and append and objective space values\n",
        "    feas = np.where(opt.get(\"feasible\"))[0]\n",
        "    hist_F.append(opt.get(\"F\")[feas])\n",
        "\n",
        "vals = hist_cv_avg\n",
        "\n",
        "#k = np.where(np.array(vals) <= 0.0)[0].min()\n",
        "#print(f\"Whole population feasible in Generation {k} after {n_evals[k]} evaluations.\")\n",
        "\n",
        "plt.figure(figsize=(7, 5))\n",
        "plt.plot(n_evals, vals,  color='black', lw=0.7, label=\"Avg. CV of Pop\")\n",
        "plt.scatter(n_evals, vals,  facecolor=\"none\", edgecolor='black', marker=\"p\")\n",
        "#plt.axvline(n_evals[k], color=\"red\", label=\"All Feasible\", linestyle=\"--\")\n",
        "plt.title(\"Convergence\")\n",
        "plt.xlabel(\"Function Evaluations\")\n",
        "plt.legend()\n",
        "plt.show()"
      ],
      "metadata": {
        "id": "fR60XkwkGfTK"
      },
      "execution_count": null,
      "outputs": []
    }
  ]
}